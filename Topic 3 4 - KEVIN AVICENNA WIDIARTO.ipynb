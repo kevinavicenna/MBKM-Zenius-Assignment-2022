{
 "cells": [
  {
   "cell_type": "markdown",
   "metadata": {
    "id": "f6LjKU50-tD8"
   },
   "source": [
    "##Topic 3 - Python Structure & Data Type Assignment\n"
   ]
  },
  {
   "cell_type": "markdown",
   "metadata": {
    "id": "MPuR878HZEbx"
   },
   "source": [
    "# Data Type Declaration"
   ]
  },
  {
   "cell_type": "markdown",
   "metadata": {
    "id": "GyS5I54D-3K9"
   },
   "source": [
    "1. > Create an empty variable (Points : 5)"
   ]
  },
  {
   "cell_type": "code",
   "execution_count": 1,
   "metadata": {
    "id": "jehesBY-_aKL"
   },
   "outputs": [],
   "source": [
    "#variabel kosong Menggunakan None \n",
    "test = None"
   ]
  },
  {
   "cell_type": "markdown",
   "metadata": {
    "id": "6zCz3qZ8_bu2"
   },
   "source": [
    "2. > Create a variable containing your name (Points : 5)"
   ]
  },
  {
   "cell_type": "code",
   "execution_count": 2,
   "metadata": {
    "id": "1wT8jnI6_f-U"
   },
   "outputs": [],
   "source": [
    "#menampilkan nama saya dan disimpan dlm string\n",
    "nama = \"KEVIN AVICENNA WIDIARTO\""
   ]
  },
  {
   "cell_type": "markdown",
   "metadata": {
    "id": "ApatE8m__2Ud"
   },
   "source": [
    "3. > Create a list of 5 items you can find in the classroom (Points : 5)"
   ]
  },
  {
   "cell_type": "code",
   "execution_count": 3,
   "metadata": {
    "id": "-Q0Ynqx1_6hF"
   },
   "outputs": [],
   "source": [
    "#Menyimpan item yang terdapat di kelas dalam bentuk string\n",
    "classroom = [\"pencil\",\"pen\",\"whiteboard\",\"table\",\"chair\"]"
   ]
  },
  {
   "cell_type": "markdown",
   "metadata": {
    "id": "6FwMmy_9AS5N"
   },
   "source": [
    "4. > Create a dictionary containing 2 keys and value (Points : 5)"
   ]
  },
  {
   "cell_type": "code",
   "execution_count": 4,
   "metadata": {
    "id": "xLc2AlhtASOm"
   },
   "outputs": [],
   "source": [
    "#membuat dictionary berisi kunci 1 value classroom dan kunci 2 value garden \n",
    "school = {1 :\"classroom\",2:\"garden\"}"
   ]
  },
  {
   "cell_type": "markdown",
   "metadata": {
    "id": "6AqPfAS7a1Oi"
   },
   "source": [
    "# Basic Data Operation"
   ]
  },
  {
   "cell_type": "markdown",
   "metadata": {
    "id": "-ZZF1cXlbqkJ"
   },
   "source": [
    "You sold 20 pieces of electronics at the price of 12000. The customer gets a total discount of 10%.\n",
    "\n",
    "Below are those variables:\n",
    "\n",
    "1.   price=12000\n",
    "2.   quantity_sold=20\n",
    "3.   discount=10%\n",
    "\n",
    "\n",
    "Using Python code, write the code the find the total money that the customer to pay. (Points : 15)"
   ]
  },
  {
   "cell_type": "code",
   "execution_count": 5,
   "metadata": {
    "id": "90T0A2HvbcCK"
   },
   "outputs": [
    {
     "data": {
      "text/plain": [
       "24000.0"
      ]
     },
     "execution_count": 5,
     "metadata": {},
     "output_type": "execute_result"
    }
   ],
   "source": [
    "#Code goes here\n",
    "price= 12000\n",
    "quantity_sold=20\n",
    "discount=0.1\n",
    "\n",
    "#Variabel pay berisi price dikali quantiti penjualan * diskon\n",
    "pay = price*quantity_sold*discount\n",
    "pay"
   ]
  },
  {
   "cell_type": "markdown",
   "metadata": {
    "id": "G-HHsg4la6mJ"
   },
   "source": [
    "# List Data Operation"
   ]
  },
  {
   "cell_type": "markdown",
   "metadata": {
    "id": "NdoSjVZ4Zbqg"
   },
   "source": [
    "5. > Follow the instructions in the code blocks\n",
    "\n",
    "\n",
    "\n"
   ]
  },
  {
   "cell_type": "code",
   "execution_count": 6,
   "metadata": {
    "id": "xsFxlZGLaQ7y"
   },
   "outputs": [],
   "source": [
    "# Create list of countries in the world (total 7 countries) (Points : 5)\n",
    "\n",
    "#List country berisi 5 negara\n",
    "countries = [\"Indonesia\",\"Malaysia\",\"Singapore\",\"Timor Leste\",\"Brunei\"]\n",
    "#Code goes here"
   ]
  },
  {
   "cell_type": "code",
   "execution_count": 7,
   "metadata": {
    "id": "6Se125DabJ6R"
   },
   "outputs": [
    {
     "data": {
      "text/plain": [
       "['Indonesia', 'Malaysia', 'Singapore', 'Timor Leste']"
      ]
     },
     "execution_count": 7,
     "metadata": {},
     "output_type": "execute_result"
    }
   ],
   "source": [
    "# Get 4 countries from the first index of the list (Points : 5)\n",
    "countries[:-1]\n",
    "#Code goes here"
   ]
  },
  {
   "cell_type": "code",
   "execution_count": 8,
   "metadata": {
    "id": "FSU5QfExbKAh"
   },
   "outputs": [],
   "source": [
    "# Append new country to the list (Points : 5)\n",
    "\n",
    "\n",
    "#menambahan negara dengan fungsi country\n",
    "countries.append(\"Thailand\")\n",
    "#Code goes here"
   ]
  },
  {
   "cell_type": "code",
   "execution_count": 9,
   "metadata": {
    "id": "DlvXbKlnbKGR"
   },
   "outputs": [],
   "source": [
    "# Drop one country from the list (Points : 5)\n",
    "\n",
    "#menghilangkan 1 negara dari list dengan fungsi remove\n",
    "countries.remove(\"Indonesia\")\n",
    "#Code goes here"
   ]
  },
  {
   "cell_type": "code",
   "execution_count": 10,
   "metadata": {
    "id": "F1NJ6JCQbKJ7"
   },
   "outputs": [
    {
     "data": {
      "text/plain": [
       "'Thailand'"
      ]
     },
     "execution_count": 10,
     "metadata": {},
     "output_type": "execute_result"
    }
   ],
   "source": [
    "# Get country in the last index (Points : 5)\n",
    "\n",
    "#index terakhir menggunakan -1\n",
    "countries[-1]\n",
    "\n",
    "#Code goes here"
   ]
  },
  {
   "cell_type": "markdown",
   "metadata": {
    "id": "Kfkq-SmIdJR6"
   },
   "source": [
    "# Dictionary Data Operation"
   ]
  },
  {
   "cell_type": "markdown",
   "metadata": {
    "id": "WyJ8CJzdeMiS"
   },
   "source": [
    "6. >  Follow the instructions below\n",
    "\n",
    "\n",
    "\n"
   ]
  },
  {
   "cell_type": "code",
   "execution_count": 11,
   "metadata": {
    "id": "fVHYIKLwdMfq"
   },
   "outputs": [],
   "source": [
    "# Given the dictionary below\n",
    "#dictionary berisi kunci name ,age,gender dan membership\n",
    "customer={\n",
    "    \"name\":['Dio','Eka','Wayu','Riki'],\n",
    "    \"age\":[20,19,24,39],\n",
    "    \"gender\":[1,0,0,1],\n",
    "    \"membership\":['Platinum','Gold','Silver','Silver']\n",
    "}"
   ]
  },
  {
   "cell_type": "code",
   "execution_count": 12,
   "metadata": {
    "id": "LpRVtz4_eJK5"
   },
   "outputs": [
    {
     "data": {
      "text/plain": [
       "dict_keys(['name', 'age', 'gender', 'membership'])"
      ]
     },
     "execution_count": 12,
     "metadata": {},
     "output_type": "execute_result"
    }
   ],
   "source": [
    "# Print all keys in customer (Points : 5)\n",
    "\n",
    "#melihat semua kunci dengan fungsi keys\n",
    "customer.keys()\n",
    "\n",
    "#Code goes here"
   ]
  },
  {
   "cell_type": "code",
   "execution_count": 13,
   "metadata": {
    "id": "QiEMM94FeYrz"
   },
   "outputs": [
    {
     "data": {
      "text/plain": [
       "dict_values([['Dio', 'Eka', 'Wayu', 'Riki'], [20, 19, 24, 39], [1, 0, 0, 1], ['Platinum', 'Gold', 'Silver', 'Silver']])"
      ]
     },
     "execution_count": 13,
     "metadata": {},
     "output_type": "execute_result"
    }
   ],
   "source": [
    "# Print all customer names (Points : 5)\n",
    "\n",
    "#melihat semua values yang ada di dictionary\n",
    "customer.values()\n",
    "#Code goes here"
   ]
  },
  {
   "cell_type": "code",
   "execution_count": 14,
   "metadata": {
    "id": "P2SeErUGgQ-D"
   },
   "outputs": [
    {
     "data": {
      "text/plain": [
       "'Dio'"
      ]
     },
     "execution_count": 14,
     "metadata": {},
     "output_type": "execute_result"
    }
   ],
   "source": [
    "# Print the first customer name (Points : 5)\n",
    "\n",
    "#menampilkan nama customer pertama\n",
    "list(customer.values())[0][0]\n",
    "#Code goes here"
   ]
  },
  {
   "cell_type": "code",
   "execution_count": 15,
   "metadata": {
    "id": "c3PlmHxueiPy"
   },
   "outputs": [
    {
     "data": {
      "text/plain": [
       "[20, 19, 24, 39]"
      ]
     },
     "execution_count": 15,
     "metadata": {},
     "output_type": "execute_result"
    }
   ],
   "source": [
    "# Drop \"age\" key from the dictionary (Points : 5)\n",
    "\n",
    "#Menghapus kunci \"Age\" \n",
    "customer.pop(\"age\")\n",
    "\n",
    "#Code goes here"
   ]
  },
  {
   "cell_type": "code",
   "execution_count": 16,
   "metadata": {
    "id": "FgXDh9mIea9x"
   },
   "outputs": [
    {
     "data": {
      "text/plain": [
       "{'name': ['Dio', 'Eka', 'Wayu', 'Riki'],\n",
       " 'gender': ['Male', 'Female', 'Female', 'Male'],\n",
       " 'membership': ['Platinum', 'Gold', 'Silver', 'Silver']}"
      ]
     },
     "execution_count": 16,
     "metadata": {},
     "output_type": "execute_result"
    }
   ],
   "source": [
    "# Replace customer gender list value (Points : 20)\n",
    "# gender 1 => Male\n",
    "# gender 0 => Female \n",
    "# customer\n",
    "\n",
    "#mengganti kunci value gender\n",
    "list(customer.values())[1][0] = \"Male\"\n",
    "list(customer.values())[1][1] = \"Female\"\n",
    "list(customer.values())[1][2] = \"Female\"\n",
    "list(customer.values())[1][3] = \"Male\"\n",
    "customer\n",
    "#Code goes here"
   ]
  }
 ],
 "metadata": {
  "colab": {
   "collapsed_sections": [],
   "name": "Topic 4 - Assignment ipynb",
   "provenance": []
  },
  "kernelspec": {
   "display_name": "Python 3 (ipykernel)",
   "language": "python",
   "name": "python3"
  },
  "language_info": {
   "codemirror_mode": {
    "name": "ipython",
    "version": 3
   },
   "file_extension": ".py",
   "mimetype": "text/x-python",
   "name": "python",
   "nbconvert_exporter": "python",
   "pygments_lexer": "ipython3",
   "version": "3.10.7"
  },
  "vscode": {
   "interpreter": {
    "hash": "bd5508c2ffc7f17f7d31cf4086cc872f89e96996a08987e995649e5fbe85a3a4"
   }
  }
 },
 "nbformat": 4,
 "nbformat_minor": 1
}
